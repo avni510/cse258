{
 "cells": [
  {
   "cell_type": "code",
   "execution_count": 106,
   "metadata": {},
   "outputs": [],
   "source": [
    "import numpy as np\n",
    "from urllib.request import urlopen\n",
    "import scipy.optimize\n",
    "import random\n",
    "from sklearn import svm\n",
    "from sklearn import linear_model\n",
    "import pandas as pd\n",
    "import matplotlib.pyplot as plt\n",
    "import math\n",
    "\n",
    "def sigmoid(x):\n",
    "    a = []\n",
    "    for item in x:\n",
    "        a.append(1/(1+math.exp(-item)))\n",
    "    return a\n"
   ]
  },
  {
   "cell_type": "code",
   "execution_count": 6,
   "metadata": {},
   "outputs": [],
   "source": [
    "dataDir = \"/Users/henryli/Desktop/CSE 258 Rec Sys/cse258/data/\"\n",
    "path = dataDir + \"hotel_bookings_clean.csv\"\n",
    "df = pd.read_csv(path)"
   ]
  },
  {
   "cell_type": "code",
   "execution_count": 20,
   "metadata": {},
   "outputs": [
    {
     "data": {
      "text/plain": [
       "Index(['hotel', 'is_canceled', 'lead_time', 'arrival_date_year',\n",
       "       'arrival_date_month', 'arrival_date_week_number',\n",
       "       'arrival_date_day_of_month', 'stays_in_weekend_nights',\n",
       "       'stays_in_week_nights', 'adults', 'children', 'babies', 'meal',\n",
       "       'country', 'market_segment', 'distribution_channel',\n",
       "       'is_repeated_guest', 'previous_cancellations',\n",
       "       'previous_bookings_not_canceled', 'reserved_room_type',\n",
       "       'assigned_room_type', 'booking_changes', 'deposit_type', 'agent',\n",
       "       'company', 'days_in_waiting_list', 'customer_type', 'adr',\n",
       "       'required_car_parking_spaces', 'total_of_special_requests',\n",
       "       'reservation_status', 'reservation_status_date'],\n",
       "      dtype='object')"
      ]
     },
     "execution_count": 20,
     "metadata": {},
     "output_type": "execute_result"
    }
   ],
   "source": [
    "df.columns"
   ]
  },
  {
   "cell_type": "code",
   "execution_count": 52,
   "metadata": {},
   "outputs": [
    {
     "data": {
      "text/plain": [
       "0        3\n",
       "1        4\n",
       "2        0\n",
       "3        0\n",
       "4        0\n",
       "        ..\n",
       "86935    0\n",
       "86936    0\n",
       "86937    0\n",
       "86938    0\n",
       "86939    0\n",
       "Name: booking_changes, Length: 86940, dtype: int64"
      ]
     },
     "execution_count": 52,
     "metadata": {},
     "output_type": "execute_result"
    }
   ],
   "source": [
    "df['booking_changes']"
   ]
  },
  {
   "cell_type": "code",
   "execution_count": 56,
   "metadata": {},
   "outputs": [
    {
     "data": {
      "image/png": "[encoded data removed]",
      "text/plain": [
       "<Figure size 432x288 with 1 Axes>"
      ]
     },
     "metadata": {
      "needs_background": "light"
     },
     "output_type": "display_data"
    }
   ],
   "source": [
    "x_prev_cancel = df['previous_cancellations']\n",
    "y_prev_cancel = df.is_canceled\n",
    "prev_cancel_avg = [df['previous_cancellations'].mean()] *  y_prev_cancel.size\n",
    "plt.plot(x_prev_cancel, y_prev_cancel, 'go')\n",
    "#plt.plot(prev_cancel_avg, y_prev_cancel, 'red')\n",
    "plt.show()"
   ]
  },
  {
   "cell_type": "code",
   "execution_count": 58,
   "metadata": {},
   "outputs": [
    {
     "data": {
      "image/png": "[encoded data removed]",
      "text/plain": [
       "<Figure size 432x288 with 1 Axes>"
      ]
     },
     "metadata": {
      "needs_background": "light"
     },
     "output_type": "display_data"
    }
   ],
   "source": [
    "x_prev_not_cancel = df['previous_bookings_not_canceled']\n",
    "y_label = df.is_canceled\n",
    "prev_not_cancel_avg = [df['previous_bookings_not_canceled'].mean()] *  y_prev_not_cancel.size\n",
    "plt.plot(x_prev_not_cancel, y_label, 'yo')\n",
    "plt.show()"
   ]
  },
  {
   "cell_type": "code",
   "execution_count": 62,
   "metadata": {},
   "outputs": [
    {
     "data": {
      "image/png": "[encoded data removed]",
      "text/plain": [
       "<Figure size 432x288 with 1 Axes>"
      ]
     },
     "metadata": {
      "needs_background": "light"
     },
     "output_type": "display_data"
    }
   ],
   "source": [
    "x_waitlist = df['days_in_waiting_list']\n",
    "y_label = df.is_canceled\n",
    "prev_not_cancel_avg = [df['days_in_waiting_list'].mean()] *  y_label\n",
    "plt.plot(x_waitlist, y_label, 'bo')\n",
    "plt.show()"
   ]
  },
  {
   "cell_type": "code",
   "execution_count": 63,
   "metadata": {},
   "outputs": [
    {
     "data": {
      "image/png": "[encoded data removed]",
      "text/plain": [
       "<Figure size 432x288 with 1 Axes>"
      ]
     },
     "metadata": {
      "needs_background": "light"
     },
     "output_type": "display_data"
    }
   ],
   "source": [
    "x_children = df['children']\n",
    "y_labels = df.is_canceled\n",
    "child_avg = [df['children'].mean()] *  y_labels.size\n",
    "plt.plot(x_children, y_labels, 'ro')\n",
    "#plt.plot(lead_time_avg, y_lead_time, 'red')\n",
    "plt.show()"
   ]
  },
  {
   "cell_type": "code",
   "execution_count": 70,
   "metadata": {},
   "outputs": [
    {
     "data": {
      "image/png": "[encoded data removed]",
      "text/plain": [
       "<Figure size 432x288 with 1 Axes>"
      ]
     },
     "metadata": {
      "needs_background": "light"
     },
     "output_type": "display_data"
    }
   ],
   "source": [
    "x_babies = df['babies']\n",
    "y_labels = df.is_canceled\n",
    "babies_avg = [df['babies'].mean()] *  y_labels.size\n",
    "plt.plot(x_babies, y_labels, 'yo')\n",
    "#plt.plot(lead_time_avg, y_lead_time, 'red')\n",
    "plt.show()"
   ]
  },
  {
   "cell_type": "code",
   "execution_count": 88,
   "metadata": {},
   "outputs": [
    {
     "name": "stdout",
     "output_type": "stream",
     "text": [
      "[22979, 982, 26]\n"
     ]
    },
    {
     "data": {
      "text/plain": [
       "[<matplotlib.lines.Line2D at 0x7ffe2c3f0910>]"
      ]
     },
     "execution_count": 88,
     "metadata": {},
     "output_type": "execute_result"
    },
    {
     "data": {
      "image/png": "[encoded data removed]",
      "text/plain": [
       "<Figure size 432x288 with 1 Axes>"
      ]
     },
     "metadata": {
      "needs_background": "light"
     },
     "output_type": "display_data"
    }
   ],
   "source": [
    "deposit = df.groupby(['deposit_type']).sum()['is_canceled']\n",
    "x_deposit = ['No Deposit', 'Non Refund', 'Refundable']\n",
    "y_deposit = [deposit[x] for x in x_deposit]\n",
    "print(y_deposit)\n",
    "plt.plot(x_deposit, y_deposit, 'yo')"
   ]
  },
  {
   "cell_type": "code",

   "execution_count": 146,
   "metadata": {},
   "outputs": [
    {
     "data": {
      "image/png": "[encoded data removed]",
      "text/plain": [
       "<Figure size 432x288 with 1 Axes>"
      ]
     },
     "metadata": {
      "needs_background": "light"
     },
     "output_type": "display_data"
    }
   ],
   "source": [
    "group_deposit = df.groupby(['deposit_type']).sum()['is_canceled']\n",
    "group_deposit_total =df.groupby(['deposit_type']).count()['is_canceled']\n",
    "prob_cancel_deposit = np.array(group_deposit/group_deposit_total)\n",
    "x_deposit = np.sort(pd.unique(df['deposit_type']))\n",
    "plt.plot(x_deposit, prob_cancel_deposit, 'yo')\n",
    "plt.show()"
   ]
  },
  {
   "cell_type": "code",

   "execution_count": null,
   "metadata": {},
   "outputs": [],
   "source": [
    "#having 2 children is twice as likely to cancel \n",
    "group_child = df.groupby(['children']).sum()['is_canceled']\n",
    "group_child_total =df.groupby(['children']).count()['is_canceled']\n",
    "print(group_child/group_child_total)\n",
    "print(group_child_total)"
   ]
  },
  {
   "cell_type": "code",
   "execution_count": 97,
   "metadata": {},
   "outputs": [
    {
     "name": "stdout",
     "output_type": "stream",
     "text": [
      "distribution_channel\n",
      "Corporate    0.129309\n",
      "Direct       0.148983\n",
      "GDS          0.198895\n",
      "TA/TO        0.310106\n",
      "Undefined    0.000000\n",
      "Name: is_canceled, dtype: float64\n"
     ]
    }
   ],
   "source": [
    "group_dist = df.groupby(['distribution_channel']).sum()['is_canceled']\n",
    "group_dist_total =df.groupby(['distribution_channel']).count()['is_canceled']\n",
    "print(group_dist/group_dist_total)"
   ]
  },
  {
   "cell_type": "code",
   "execution_count": 137,
   "metadata": {},
   "outputs": [
    {
     "data": {
      "image/png": "[encoded data removed]",
      "text/plain": [
       "<Figure size 432x288 with 1 Axes>"
      ]
     },
     "metadata": {
      "needs_background": "light"
     },
     "output_type": "display_data"
    }
   ],
   "source": [
    "group_lead = df.groupby(['lead_time']).sum()['is_canceled']\n",
    "group_lead_total =df.groupby(['lead_time']).count()['is_canceled']\n",
    "prob_cancel_lead_time = np.array(group_lead/group_lead_total)\n",
    "x_lead_time = np.sort(pd.unique(df['lead_time']))\n",
    "y_labels = df.is_canceled\n",
    "plt.plot(x_lead_time, prob_cancel_lead_time, 'bo')\n",
    "plt.show()"
   ]
  },
  {
   "cell_type": "code",
   "execution_count": 136,
   "metadata": {},
   "outputs": [
    {
     "data": {
      "image/png": "[encoded data removed]",
      "text/plain": [
       "<Figure size 432x288 with 1 Axes>"
      ]
     },
     "metadata": {
      "needs_background": "light"
     },
     "output_type": "display_data"
    }
   ],
   "source": [
    "group_book_changes = df.groupby(['booking_changes']).sum()['is_canceled']\n",
    "group_book_changes_total =df.groupby(['booking_changes']).count()['is_canceled']\n",
    "prob_cancel_book_changes = np.array(group_book_changes/group_book_changes_total)\n",
    "x_booking_changes = np.sort(pd.unique(df['booking_changes']))\n",
    "y_labels = df.is_canceled\n",
    "plt.plot(x_booking_changes, prob_cancel_book_changes, 'go')\n",
    "plt.show()"
   ]
  },
  {
   "cell_type": "code",
   "execution_count": 138,
   "metadata": {},
   "outputs": [
    {
     "data": {
      "image/png": "[encoded data removed]",
      "text/plain": [
       "<Figure size 432x288 with 1 Axes>"
      ]
     },
     "metadata": {
      "needs_background": "light"
     },
     "output_type": "display_data"
    }
   ],
   "source": [
    "group_prev_cancel = df.groupby(['previous_cancellations']).sum()['is_canceled']\n",
    "group_prev_cancel_total =df.groupby(['previous_cancellations']).count()['is_canceled']\n",
    "prob_cancel_prev_cancel = np.array(group_prev_cancel/group_prev_cancel_total)\n",
    "x_prev_cancel = np.sort(pd.unique(df['previous_cancellations']))\n",
    "plt.plot(x_prev_cancel, prob_cancel_prev_cancel, 'yo')\n",
    "plt.show()"
   ]
  },
  {
   "cell_type": "code",
   "execution_count": 141,
   "metadata": {},
   "outputs": [
    {
     "data": {
      "text/plain": [
       "previous_cancellations\n",
       "0     22857\n",
       "1      1058\n",
       "2        33\n",
       "3        16\n",
       "4         6\n",
       "5         2\n",
       "6         2\n",
       "11        2\n",
       "13        3\n",
       "14        1\n",
       "19        1\n",
       "21        1\n",
       "24        2\n",
       "25        2\n",
       "26        1\n",
       "Name: is_canceled, dtype: int64"
      ]
     },
     "execution_count": 141,
     "metadata": {},
     "output_type": "execute_result"
    }
   ],
   "source": []
  },
  {
   "cell_type": "code",
   "execution_count": null,
   "metadata": {},
   "outputs": [],
   "source": []
  }
 ],
 "metadata": {
  "interpreter": {
   "hash": "aee8b7b246df8f9039afb4144a1f6fd8d2ca17a180786b69acc140d282b71a49"
  },
  "kernelspec": {
   "display_name": "Python 3.9.2 64-bit",
   "language": "python",
   "name": "python3"
  },
  "language_info": {
   "codemirror_mode": {
    "name": "ipython",
    "version": 3
   },
   "file_extension": ".py",
   "mimetype": "text/x-python",
   "name": "python",
   "nbconvert_exporter": "python",
   "pygments_lexer": "ipython3",
   "version": "3.9.2"
  },
  "orig_nbformat": 4
 },
 "nbformat": 4,
 "nbformat_minor": 2
}
