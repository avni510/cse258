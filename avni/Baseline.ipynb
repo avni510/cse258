{
 "cells": [
  {
   "cell_type": "code",
   "execution_count": 1,
   "id": "63b99e99",
   "metadata": {},
   "outputs": [],
   "source": [
    "import pandas as pd\n",
    "import matplotlib.pyplot as plt\n",
    "from sklearn.metrics import mean_squared_error\n",
    "import numpy"
   ]
  },
  {
   "cell_type": "code",
   "execution_count": 2,
   "id": "6e1e96aa",
   "metadata": {},
   "outputs": [],
   "source": [
    "dataDir = \"/Users/avnikothari/Desktop/cse258/data/\"\n",
    "path = dataDir + \"hotel_bookings_clean.csv\"\n",
    "df = pd.read_csv(path)"
   ]
  },
  {
   "cell_type": "code",
   "execution_count": 3,
   "id": "be5e6d6f",
   "metadata": {},
   "outputs": [
    {
     "data": {
      "text/plain": [
       "Index(['hotel', 'is_canceled', 'lead_time', 'arrival_date_year',\n",
       "       'arrival_date_month', 'arrival_date_week_number',\n",
       "       'arrival_date_day_of_month', 'stays_in_weekend_nights',\n",
       "       'stays_in_week_nights', 'adults', 'children', 'babies', 'meal',\n",
       "       'country', 'market_segment', 'distribution_channel',\n",
       "       'is_repeated_guest', 'previous_cancellations',\n",
       "       'previous_bookings_not_canceled', 'reserved_room_type',\n",
       "       'assigned_room_type', 'booking_changes', 'deposit_type', 'agent',\n",
       "       'company', 'days_in_waiting_list', 'customer_type', 'adr',\n",
       "       'required_car_parking_spaces', 'total_of_special_requests',\n",
       "       'reservation_status', 'reservation_status_date', 'agent_is_null',\n",
       "       'company_is_null'],\n",
       "      dtype='object')"
      ]
     },
     "execution_count": 3,
     "metadata": {},
     "output_type": "execute_result"
    }
   ],
   "source": [
    "df.columns"
   ]
  },
  {
   "cell_type": "code",
   "execution_count": 11,
   "id": "48f03647",
   "metadata": {},
   "outputs": [
    {
     "data": {
      "text/plain": [
       "No Deposit    85796\n",
       "Non Refund     1037\n",
       "Refundable      107\n",
       "Name: deposit_type, dtype: int64"
      ]
     },
     "execution_count": 11,
     "metadata": {},
     "output_type": "execute_result"
    }
   ],
   "source": [
    "dt = df['deposit_type'].value_counts()\n",
    "dt"
   ]
  },
  {
   "cell_type": "code",
   "execution_count": 26,
   "id": "b3385f33",
   "metadata": {},
   "outputs": [
    {
     "name": "stdout",
     "output_type": "stream",
     "text": [
      "No Deposit 98.68 %\n",
      "Non Refund 1.1900000000000002 %\n",
      "Refundable 0.12 %\n"
     ]
    }
   ],
   "source": [
    "counts = dt.to_numpy()\n",
    "total = counts.sum()\n",
    "percents = [round((c/total), 4) * 100 for c in counts]\n",
    "print(f'No Deposit {percents[0]} %')\n",
    "print(f'Non Refund {percents[1]} %')\n",
    "print(f'Refundable {percents[2]} %')"
   ]
  },
  {
   "cell_type": "code",
   "execution_count": 5,
   "id": "c855209c",
   "metadata": {},
   "outputs": [
    {
     "data": {
      "text/plain": [
       "86940"
      ]
     },
     "execution_count": 5,
     "metadata": {},
     "output_type": "execute_result"
    }
   ],
   "source": [
    "len(df)"
   ]
  },
  {
   "cell_type": "code",
   "execution_count": 6,
   "id": "c433b805",
   "metadata": {},
   "outputs": [
    {
     "data": {
      "text/plain": [
       "0    85450\n",
       "1     1490\n",
       "Name: predicted_cancelations, dtype: int64"
      ]
     },
     "execution_count": 6,
     "metadata": {},
     "output_type": "execute_result"
    }
   ],
   "source": [
    "def predict(row):\n",
    "    if row['previous_cancellations'] == 1:\n",
    "        return 1\n",
    "    elif (row['deposit_type'] == 'Refundable'):\n",
    "        return 1\n",
    "    else:\n",
    "        return 0\n",
    "\n",
    "df['predicted_cancelations'] = df.apply(lambda row: predict(row), axis=1)\n",
    "\n",
    "df['predicted_cancelations'].value_counts()"
   ]
  },
  {
   "cell_type": "code",
   "execution_count": 7,
   "id": "dd4387b1",
   "metadata": {},
   "outputs": [
    {
     "name": "stdout",
     "output_type": "stream",
     "text": [
      "MSE\n"
     ]
    },
    {
     "data": {
      "text/plain": [
       "0.2681044398435703"
      ]
     },
     "execution_count": 7,
     "metadata": {},
     "output_type": "execute_result"
    }
   ],
   "source": [
    "print(\"MSE\")\n",
    "mean_squared_error(df['is_canceled'], df['predicted_cancelations'])"
   ]
  },
  {
   "cell_type": "code",
   "execution_count": 8,
   "id": "218939b3",
   "metadata": {},
   "outputs": [
    {
     "name": "stdout",
     "output_type": "stream",
     "text": [
      "accuracy\n",
      "0.7318955601564298\n",
      "precision\n",
      "0.72751677852349\n",
      "recall\n",
      "0.04519114520365198\n",
      "BER\n",
      "0.4806290552951765\n"
     ]
    }
   ],
   "source": [
    "y_true = df['is_canceled']\n",
    "y_predicted = df['predicted_cancelations']\n",
    "TP_ = numpy.logical_and(y_predicted, y_true)\n",
    "FP_ = numpy.logical_and(y_predicted, numpy.logical_not(y_true))\n",
    "TN_ = numpy.logical_and(numpy.logical_not(y_predicted), numpy.logical_not(y_true))\n",
    "FN_ = numpy.logical_and(numpy.logical_not(y_predicted), y_true)\n",
    "\n",
    "TP = sum(TP_)\n",
    "FP = sum(FP_)\n",
    "TN = sum(TN_)\n",
    "FN = sum(FN_)\n",
    "    \n",
    "accuracy = (TP + TN) / (TP + FP + TN + FN)    \n",
    "precision = TP / (TP + FP)\n",
    "recall = TP / (TP + FN)\n",
    "\n",
    "TPR = TP / (TP + FN)\n",
    "TNR = TN / (TN + FP)\n",
    "BER = 1 - 1/2 * (TPR + TNR)\n",
    "\n",
    "print(\"accuracy\")\n",
    "print(accuracy)\n",
    "print(\"precision\")\n",
    "print(precision)\n",
    "print(\"recall\")\n",
    "print(recall)\n",
    "print(\"BER\")\n",
    "print(BER)"
   ]
  }
 ],
 "metadata": {
  "kernelspec": {
   "display_name": "Python 3 (ipykernel)",
   "language": "python",
   "name": "python3"
  },
  "language_info": {
   "codemirror_mode": {
    "name": "ipython",
    "version": 3
   },
   "file_extension": ".py",
   "mimetype": "text/x-python",
   "name": "python",
   "nbconvert_exporter": "python",
   "pygments_lexer": "ipython3",
   "version": "3.9.7"
  }
 },
 "nbformat": 4,
 "nbformat_minor": 5
}
